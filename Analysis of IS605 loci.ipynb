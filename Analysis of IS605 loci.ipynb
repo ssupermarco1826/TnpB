{
 "cells": [
  {
   "cell_type": "code",
   "execution_count": null,
   "id": "fc76fab0",
   "metadata": {},
   "outputs": [],
   "source": [
    "#Determine whether the sequence contains non-ATGC characters.\n",
    "def contains_invalid_chars(sequence):\n",
    "\n",
    "    valid_chars = ['A','T','G','C']\n",
    "    for char in sequence:\n",
    "        if char not in valid_chars:\n",
    "            print(char)\n",
    "            return True\n",
    "    return False"
   ]
  },
  {
   "cell_type": "code",
   "execution_count": null,
   "id": "0d667c64",
   "metadata": {},
   "outputs": [],
   "source": [
    "#removing all records from genomes where any derived sequences contained inaccuracies\n",
    "import pandas as pd\n",
    "download = pd.read_excel(r'C:\\Users\\Qi\\Desktop\\E. coli_TnpB\\Fig.1\\IS605s\\download\\tnpB_loci_sequence_download.xlsx', sheet_name='Sheet1')\n",
    "\n",
    "to_delete=[]\n",
    "for index, row in download.iterrows():\n",
    "    if contains_invalid_chars(row['sequence']) == True:\n",
    "        to_delete.append(row['acc_num'])\n",
    "print(to_delete)\n",
    "\n",
    "# Filter the DataFrame to remove rows where acc_num is in the to_delete liindexst\n",
    "clean_data = download[~download['acc_num'].isin(to_delete)]\n",
    "print(clean_data)"
   ]
  },
  {
   "cell_type": "code",
   "execution_count": null,
   "id": "34538042",
   "metadata": {},
   "outputs": [],
   "source": [
    "#Calculate the copy number of acc_num.\n",
    "acc_counts = clean_data['acc_num'].value_counts()\n",
    "\n",
    "acc_counts_df = acc_counts.reset_index()\n",
    "acc_counts_df.columns = ['acc_num', 'copynumber']\n",
    "print(acc_counts_df)\n",
    "print('__________')\n",
    "clean_data=pd.merge(left=clean_data, right=acc_counts_df, left_on='acc_num', right_on='acc_num',how='left')\n",
    "clean_data['acc_num'] = clean_data.apply(lambda row: f\"{row['acc_num']}_{row.name}\", axis=1)\n",
    "print(clean_data)\n",
    "  "
   ]
  },
  {
   "cell_type": "code",
   "execution_count": null,
   "id": "189b6a04",
   "metadata": {},
   "outputs": [],
   "source": [
    "#Print the downloaded sequences and save them as a file named clean_tnpB_loci.fast for use as a local BLAST database.\n",
    "for index, row in clean_data.iterrows():\n",
    "    print(f\">{row['acc_num']}\")\n",
    "    print(row['sequence'])"
   ]
  },
  {
   "cell_type": "code",
   "execution_count": null,
   "id": "2711f2ea",
   "metadata": {},
   "outputs": [],
   "source": [
    "#Buide the local BLAST for clean_tnpB_loci\n",
    "import subprocess\n",
    "command = \"makeblastdb -in clean_tnpB_loci.fasta -dbtype nucl\"\n",
    "subprocess.run(command, shell=True)"
   ]
  },
  {
   "cell_type": "code",
   "execution_count": null,
   "id": "e2292e10",
   "metadata": {},
   "outputs": [],
   "source": [
    "#Determine if tnpA is intact\n",
    "from Bio.Blast import NCBIXML\n",
    "from Bio.Seq import Seq\n",
    "import re\n",
    "\n",
    "# Create an empty list to store DataFrames\n",
    "\n",
    "TnpA_stutas=[]\n",
    "with open(r'C:\\Users\\Qi\\Desktop\\E. coli_TnpB\\Fig.1\\IS605s\\upload\\bl21_TnpA_nucl_vs_clean_tnpB_loci.xml') as result_handle:\n",
    "    blast_record = NCBIXML.read(result_handle)\n",
    "    n=0\n",
    "\n",
    "    for alignment in blast_record.alignments:\n",
    "        for hsp in alignment.hsps:\n",
    "            ID = alignment.title.split(\" \", 1)[1]\n",
    "            sbjct_clean = re.sub(r'[^ATGC]', '', hsp.sbjct)\n",
    "            TnpA_pro = Seq(sbjct_clean).reverse_complement().translate()\n",
    "            if hsp.sbjct_end < hsp.sbjct_start:\n",
    "                print(\"The tnpB and tnpA are in same direction\")\n",
    "            if len(TnpA_pro) > 135 and \"*\" not in str(TnpA_pro):\n",
    "                TnpA_ORF='intact'\n",
    "            else:\n",
    "                TnpA_ORF='incomplete'\n",
    "            TnpA_stutas.append({\n",
    "                    'ID': ID,\n",
    "                    'TnpA_pro_seq':str(TnpA_pro),\n",
    "                    'TnpA_start':hsp.sbjct_start,\n",
    "                    'TnpA_end':hsp.sbjct_end,\n",
    "                    'TnpA_ORF':TnpA_ORF\n",
    "            })\n",
    "            \n",
    "    df_TnpA=pd.DataFrame(TnpA_stutas)\n",
    "\n",
    "tnpB_loci_TnpA=pd.merge(left=clean_data,right=df_TnpA,left_on='acc_num',right_on='ID',how='left')\n",
    "print(tnpB_loci_TnpA)"
   ]
  },
  {
   "cell_type": "code",
   "execution_count": null,
   "id": "c5e26dd4",
   "metadata": {},
   "outputs": [],
   "source": [
    "#Align the TTTAT TAM followed by the TAM+LE sequence of IS605 element from E. coli BL21 (DE3) against clean_tnpB_loci.\n",
    "import subprocess\n",
    "command = \"blastn -query TAM_Le_seq.fasta -db clean_tnpB_loci.fasta -evalue 0.01 -num_threads 4 -out TAM_Le_seq_vs_upstream_tnpA.xml -max_target_seqs 6000 -max_hsps 1 -outfmt 5\"\n",
    "subprocess.run(command, shell=True)"
   ]
  },
  {
   "cell_type": "code",
   "execution_count": null,
   "id": "8ff630cb",
   "metadata": {},
   "outputs": [],
   "source": [
    "#Count the types of TAMs\n",
    "from collections import Counter\n",
    "\n",
    "# Create an empty list to store DataFrames\n",
    "\n",
    "TAM=[]\n",
    "with open(r'C:\\Users\\Qi\\Desktop\\E. coli_TnpB\\Fig.1\\IS605s\\upload\\TAM_Le_seq_vs_upstream_tnpA.xml') as result_handle:\n",
    "    blast_record = NCBIXML.read(result_handle)\n",
    "    for alignment in blast_record.alignments:\n",
    "        for hsp in alignment.hsps:\n",
    "            ID=alignment.title.split(\" \", 1)[1]\n",
    "            TAM.append({\n",
    "                    'ID': ID,\n",
    "                    'TAM':tnpB_loci_TnpA[tnpB_loci_TnpA['acc_num'] == ID]['sequence'].values[0][hsp.sbjct_start-hsp.query_start:hsp.sbjct_start-hsp.query_start+5]\n",
    "            })\n",
    "            #TAM.append(IS605_TnpA[IS605_TnpA['acc_num'] == ID]['genome_sequence'].values[0][hsp.sbjct_start-hsp.query_start-5:hsp.sbjct_start-hsp.query_start])\n",
    "    df_TAM=pd.DataFrame(TAM)\n",
    "    print(df_TAM)\n",
    "tnpB_loci_TnpA_TAM=pd.merge(left=tnpB_loci_TnpA,right=df_TAM,left_on='acc_num',right_on='ID',how='left')\n",
    "tnpB_loci_TnpA_TAM.to_excel(r'C:\\Users\\Qi\\Desktop\\E. coli_TnpB\\Fig.1\\IS605s\\upload\\tnpB_loci_TnpA_TAM.xlsx', index=False) \n",
    "tam_counts = Counter([entry['TAM'] for entry in TAM])\n",
    "print(tam_counts)"
   ]
  }
 ],
 "metadata": {
  "kernelspec": {
   "display_name": "Python 3 (ipykernel)",
   "language": "python",
   "name": "python3"
  },
  "language_info": {
   "codemirror_mode": {
    "name": "ipython",
    "version": 3
   },
   "file_extension": ".py",
   "mimetype": "text/x-python",
   "name": "python",
   "nbconvert_exporter": "python",
   "pygments_lexer": "ipython3",
   "version": "3.12.3"
  }
 },
 "nbformat": 4,
 "nbformat_minor": 5
}
